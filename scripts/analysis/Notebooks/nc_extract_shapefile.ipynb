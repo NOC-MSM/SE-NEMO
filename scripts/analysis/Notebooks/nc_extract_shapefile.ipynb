{
 "cells": [
  {
   "cell_type": "code",
   "execution_count": null,
   "id": "a796d5bc-7ca9-4b80-8966-7f5886328e70",
   "metadata": {},
   "outputs": [],
   "source": [
    "import os; os.environ['PROJ_LIB'] = '/home/users/jdha/mambaforge/envs/gp/share/proj' # avoid basemap import error"
   ]
  },
  {
   "cell_type": "markdown",
   "id": "b7f0863d-d615-4c24-88ac-cbaa5fb82ec4",
   "metadata": {},
   "source": [
    "## Extracting timeseries from model data using Shapefiles"
   ]
  },
  {
   "cell_type": "markdown",
   "id": "9fe561c4-fddb-4a72-beb7-c2292d443b34",
   "metadata": {},
   "source": [
    "An example notebook to show the extraction and plotting of a timeseries using polygons extracted from a shapefile."
   ]
  },
  {
   "cell_type": "code",
   "execution_count": null,
   "id": "ba82c22b-f6a4-417c-ae5e-f390607eef5e",
   "metadata": {},
   "outputs": [],
   "source": [
    "import geopandas as gpd\n",
    "import pandas as pd\n",
    "import numpy as np\n",
    "import matplotlib.pyplot as plt\n",
    "import cartopy.io.shapereader as shpreader\n",
    "import cartopy.crs as ccrs\n",
    "import cartopy.feature as cfeature\n",
    "import dask \n",
    "import xarray as xr\n",
    "import datetime\n",
    "\n",
    "from xarray import DataArray, Dataset\n",
    "from shapely.geometry import Point\n",
    "from typing import Any, Callable, Mapping, Optional, Tuple, TypeVar, Union, cast\n",
    "from matplotlib import cm\n",
    "from matplotlib.axes import Axes\n",
    "from mpl_toolkits.axes_grid1 import make_axes_locatable\n",
    "\n",
    "get_ipython().run_line_magic(\"matplotlib\", \"inline\")\n",
    "get_ipython().run_line_magic(\"config\", \"InlineBackend.figure_format = 'retina'\")\n",
    "\n",
    "F = TypeVar('F', bound=Callable[..., Any])"
   ]
  },
  {
   "cell_type": "markdown",
   "id": "15c61340-c5ef-4f13-b764-3e934f2390cc",
   "metadata": {},
   "source": [
    "### Functions"
   ]
  },
  {
   "cell_type": "code",
   "execution_count": null,
   "id": "d1e281a5-5ec0-4749-aef4-a003597d217a",
   "metadata": {},
   "outputs": [],
   "source": [
    "def shp_extract(\n",
    "    shp_gdf: gpd.GeoDataFrame,\n",
    "    ds: Dataset,\n",
    "    shp_name: str='LME_NAME',\n",
    "    lat_name: str='nav_lat',\n",
    "    lon_name: str='nav_lon',\n",
    ") -> Dataset:\n",
    "    \n",
    "    \"\"\"\n",
    "    Generalised function providing to extract the polygons from a shp file\n",
    "    and append the ds with corresponding array.\n",
    "    Parameters\n",
    "    ----------\n",
    "    shp_gdf: GeoDataFrame\n",
    "        GeoDataFrame created from a .shp file\n",
    "    ds: DataSet\n",
    "        xarray dataset containing coordinate information\n",
    "    lat_name, lon_name: str\n",
    "        name of longitude and latitude coordinates\n",
    "    shp_name: str\n",
    "        name of shapefile polygons    \n",
    "    Returns\n",
    "    -------\n",
    "    Dataset\n",
    "        xarray dataset with shape indices\n",
    "    Notes\n",
    "    -----\n",
    "    Tested only with LME data.\n",
    "    \"\"\"    \n",
    "    \n",
    "    # flatten the 2D longitude-latitude coordinates\n",
    "    x_rav = ds[lon_name].values.ravel()\n",
    "    y_rav = ds[lat_name].values.ravel()\n",
    "    \n",
    "    # pass to dataframe\n",
    "    df    = pd.DataFrame({'lon':x_rav, 'lat':y_rav})\n",
    "    df['coords'] = list(zip(df['lon'],df['lat']))\n",
    "    df['coords'] = df['coords'].apply(Point)\n",
    "    \n",
    "    # create GeoDataFrame and match points to the ploygons in the shp file\n",
    "    pnts = gpd.GeoDataFrame(df, geometry='coords', crs='epsg:4326')\n",
    "    rois = gpd.tools.sjoin(pnts, shp_gdf, predicate='within', how='left')\n",
    "    \n",
    "    # create a new coordinate containing an indexed grid of polygons\n",
    "    ds[shp_name] = (('y', 'x'), rois[shp_name].values.reshape(ds[lat_name].shape))\n",
    "   \n",
    "    return ds\n",
    "\n",
    "# --------------------------------------------------------------------------\n",
    "\n",
    "def shp_plot(\n",
    "    ax: Axes, \n",
    "    shp_gdf: gpd.GeoDataFrame, \n",
    "    shp_name: str, \n",
    "    roi_list: list, \n",
    "    projection: ccrs.Projection, \n",
    ") -> Axes:\n",
    "    \n",
    "    \"\"\"\n",
    "    Generalised function to plot the extent of the polygons \n",
    "    in a given shp file.\n",
    "    Parameters\n",
    "    ----------\n",
    "    ax: plt.ax\n",
    "        figure axes handle\n",
    "    shp_gdf: GeoDataFrame\n",
    "        GeoDataFrame created from a .shp file\n",
    "    shp_name: str\n",
    "        name of shapefile polygons\n",
    "    roi_list: list\n",
    "        list of str containing the names of the \n",
    "        polygons required for plotting\n",
    "    projection: ccrs.Projection\n",
    "        for example: ccrs.PlateCarree(central_longitude=0)\n",
    "    Returns\n",
    "    -------\n",
    "    plt.ax\n",
    "        updated axes handle\n",
    "    Notes\n",
    "    -----\n",
    "    Tested only with LME data.\n",
    "    \"\"\"     \n",
    "    \n",
    "    # adding land features\n",
    "    ax.add_feature(cfeature.LAND)\n",
    "    ax.add_feature(cfeature.COASTLINE)\n",
    "   \n",
    "    # extract names from GeoDataFrame\n",
    "    shp_names = shp_gdf[shp_name].values\n",
    " \n",
    "    # set colormap for number of entries\n",
    "    color = iter(cm.tab20b(np.linspace(0,1,len(shp_gdf))))\n",
    "    colors_rgb = [next(color) for c in range(len(shp_gdf))]\n",
    "\n",
    "    # loop over polygons entries\n",
    "    counter = 0\n",
    "    for name in shp_names:\n",
    "        \n",
    "        # select polygon\n",
    "        shp_gdf_sel = shp_gdf[ shp_names==name ]\n",
    "        \n",
    "        # is it a roi?\n",
    "        if (name in roi_list):\n",
    "\n",
    "            # add the geometry and fill it with color\n",
    "            color = colors_rgb[counter]\n",
    "            ax.add_geometries(shp_gdf_sel['geometry'], \n",
    "                              projection,\n",
    "                              facecolor=color, \n",
    "                              edgecolor='k')\n",
    "            ax.annotate(text=counter, \n",
    "                        xy=(shp_gdf_sel.to_crs('+proj=cea').centroid.to_crs(shp_gdf_sel.crs).x,\n",
    "                            shp_gdf_sel.to_crs('+proj=cea').centroid.to_crs(shp_gdf_sel.crs).y), \n",
    "                            color='white',\n",
    "                            fontsize=10)\n",
    "        else:\n",
    "            ax.add_geometries(shp_gdf_sel['geometry'], \n",
    "                              projection,\n",
    "                              facecolor='LightGray', \n",
    "                              edgecolor='k')\n",
    "        counter+=1\n",
    "\n",
    "    return ax\n",
    "\n",
    "# --------------------------------------------------------------------------"
   ]
  },
  {
   "cell_type": "markdown",
   "id": "90f911ad-95a7-4279-a1e0-fd4f39b12f5c",
   "metadata": {},
   "source": [
    "### Setup"
   ]
  },
  {
   "cell_type": "markdown",
   "id": "a7061821-f9da-4ee4-b7ea-71855b6cc293",
   "metadata": {},
   "source": [
    "Define a few constants, the target Dataset and extract the shape information"
   ]
  },
  {
   "cell_type": "code",
   "execution_count": null,
   "id": "ad8ae0ee-de8b-4cd8-95a4-4c6531cf39f9",
   "metadata": {},
   "outputs": [],
   "source": [
    "# open Dataset\n",
    "data_dir = '/gws/nopw/j04/class_vol2/senemo/jdha/FINAL_TESTING/'\n",
    "exp      = 'EXP_MES_WAV_DJC_NTM_TDISSx2'\n",
    "ds       = {}\n",
    "year_st  = 1980\n",
    "year_en  = 1989\n",
    "shp_name = 'LME_NAME'\n",
    "var_name = 'thetao_con'\n",
    "roi_list = ['Indonesian Sea',]\n",
    "ds       = xr.open_mfdataset(data_dir+exp+'/SENEMO_1m_*_grid_T_*.nc')\n",
    "\n",
    "# open the shapefile\n",
    "shp_file = '/home/users/jdha/shapefiles/LME66/LMEs66.shp'\n",
    "shp_gdf  = gpd.GeoDataFrame.from_file(shp_file)\n",
    "\n",
    "# extract shape polygons and add to Dataset\n",
    "ds = shp_extract(shp_gdf, ds)"
   ]
  },
  {
   "cell_type": "markdown",
   "id": "ad8f875e-de26-4e16-b66f-533fba90b1c8",
   "metadata": {},
   "source": [
    "### Extract the data over the given time period"
   ]
  },
  {
   "cell_type": "markdown",
   "id": "45da489c-20e3-4c1f-836d-dd91c96f93ff",
   "metadata": {},
   "source": [
    "Not too sure whether the following will improve the efficiency of the extract:\n",
    "```\n",
    "with dask.config.set(**{'array.slicing.split_large_chunks': True}):\n",
    "    roi_var = ...\n",
    "```\n",
    "Depending on time slice this is done over, can take several minutes - optimised use of Dask?\n",
    "\n",
    "**NB the following has 'Indonesian Sea' hard coded - but it would be easy enough to loop over `roi_list`**"
   ]
  },
  {
   "cell_type": "code",
   "execution_count": null,
   "id": "4aabf59e-bdb3-47c9-bfea-3c2a1b1cc641",
   "metadata": {},
   "outputs": [],
   "source": [
    "# extract data for each polygon\n",
    "roi_var = ds[var_name][:,0,:,:].where(ds['LME_NAME'][:,:]=='Indonesian Sea', drop=True).sel(time_counter=slice(str(year_st)+\"-01-01\", str(year_en)+\"-12-31\"))"
   ]
  },
  {
   "cell_type": "code",
   "execution_count": null,
   "id": "7c944aa7-a2b6-429e-a19d-fb405a54c6d8",
   "metadata": {
    "tags": []
   },
   "outputs": [],
   "source": [
    "# to speed future operations load the data into memmory now - could create a new Dataset at this point\n",
    "roi_var_mean = roi_var.mean(dim=[\"x\",\"y\"]).load() # area mean\n",
    "roi_var_std  = roi_var.std(dim=[\"x\",\"y\"]).load() # area std\n",
    "roi_var_clim = roi_var_mean.groupby('time_counter.month').mean('time_counter',keep_attrs=True) # monthly climatology\n",
    "roi_var_anom = (roi_var_mean.groupby('time_counter.month') - roi_var_clim) # monthly anomaly"
   ]
  },
  {
   "cell_type": "code",
   "execution_count": null,
   "id": "abe7fab9-167e-41b3-a2f0-ff35b9d7229c",
   "metadata": {},
   "outputs": [],
   "source": [
    "# create timeseries from data\n",
    "average_period = \"Y\" # annual averaging\n",
    "\n",
    "roi_rs      = roi_var_mean.resample(time_counter=average_period, loffset=\"-1Y\") # offset by a year for plot labelling\n",
    "roi_ts      = roi_rs.mean()\n",
    "roi_rs_std  = roi_var_std.resample(time_counter=average_period, loffset=\"-1Y\")\n",
    "roi_ts_std  = roi_rs_std.mean()\n",
    "\n",
    "roi_rs_anom = roi_var_anom.resample(time_counter=average_period, loffset=\"-1Y\")\n",
    "roi_ts_anom = roi_rs_anom.mean()"
   ]
  },
  {
   "cell_type": "markdown",
   "id": "53c13155-a661-4341-8a80-a0b1c13982c4",
   "metadata": {},
   "source": [
    "### Plot up the timeseries along with a map of the ROI"
   ]
  },
  {
   "cell_type": "code",
   "execution_count": null,
   "id": "ef95a76c-2c9a-4d9c-9a2c-8deb94b8401f",
   "metadata": {},
   "outputs": [],
   "source": [
    "# setup the figure panels\n",
    "fig = plt.figure(figsize=(12, 8))\n",
    "projection=ccrs.PlateCarree(central_longitude=0)\n",
    "\n",
    "ax1 = fig.add_subplot(211, projection=projection)\n",
    "ax1 = shp_plot(ax1, shp_gdf, 'LME_NAME', ['Indonesian Sea'], projection)\n",
    "ax1.set_title('Indonesian Sea')\n",
    "\n",
    "ax2 = fig.add_subplot(212)\n",
    "divider = make_axes_locatable(ax2)\n",
    "ax3 = divider.new_horizontal(size=\"100%\", pad=0.6, axes_class=plt.Axes)\n",
    "fig.add_axes(ax3)\n",
    "\n",
    "time = roi_ts.indexes['time_counter'].to_pydatetime()\n",
    "\n",
    "ax2.fill_between(time, roi_ts-roi_ts_std, roi_ts+roi_ts_std, color='lightgrey', alpha=0.2)\n",
    "ax2.plot(time,roi_ts,marker='o',linewidth=1.0)\n",
    "ax2.title.set_text(\"SST [C]\")\n",
    "                     \n",
    "ax3.fill_between(time, roi_ts_anom-roi_ts_std, roi_ts_anom+roi_ts_std, color='lightgrey', alpha=0.2,label=None)\n",
    "ax3.plot(time,roi_ts_anom,marker='o',linewidth=1.0, label='NEMO')\n",
    "ax3.title.set_text(\"SST anomaly [C]\")"
   ]
  }
 ],
 "metadata": {
  "kernelspec": {
   "display_name": "gp",
   "language": "python",
   "name": "gp"
  },
  "language_info": {
   "codemirror_mode": {
    "name": "ipython",
    "version": 3
   },
   "file_extension": ".py",
   "mimetype": "text/x-python",
   "name": "python",
   "nbconvert_exporter": "python",
   "pygments_lexer": "ipython3",
   "version": "3.9.13"
  }
 },
 "nbformat": 4,
 "nbformat_minor": 5
}
