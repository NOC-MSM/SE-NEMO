{
 "cells": [
  {
   "cell_type": "code",
   "execution_count": 1,
   "id": "bdbe576f-e72a-493b-b3d2-dd09d0ac87e9",
   "metadata": {},
   "outputs": [],
   "source": [
    "coast_dir='/home/users/jholt/Git/COAsT/'\n",
    "import sys\n",
    "sys.path.insert(0,coast_dir)\n",
    "import coast\n",
    "import numpy as np\n",
    "import matplotlib.pylab as plt\n",
    "from getpass import getpass"
   ]
  },
  {
   "cell_type": "code",
   "execution_count": 2,
   "id": "41ff715f-d907-4ef5-ac11-793e679f4539",
   "metadata": {},
   "outputs": [],
   "source": [
    "USERNAME='jholt'\n",
    "#PASSWORD=getpass( 'Password: ' )\n",
    "PASSWORD = \"Mycmemspassword9\""
   ]
  },
  {
   "cell_type": "code",
   "execution_count": 6,
   "id": "6b9edf68-a351-4f02-a8ed-d1ccb5ee76c3",
   "metadata": {},
   "outputs": [
    {
     "name": "stdout",
     "output_type": "stream",
     "text": [
      "Mycmemspassword9\n"
     ]
    }
   ],
   "source": [
    "print(PASSWORD)\n",
    "database = coast.Copernicus(USERNAME, PASSWORD, \"my\")\n",
    "#Select global model 1/12\n",
    "globreanalysis=database.get_product(\"cmems_mod_glo_phy_my_0.083_P1M-m\")\n",
    "glob__analysis=database.get_product(\"cmems_mod_glo_phy_anfc_0.083deg_P1M-m\")\n"
   ]
  },
  {
   "cell_type": "code",
   "execution_count": 4,
   "id": "e666e1d9-464c-4ac5-ae5a-001e45e053bb",
   "metadata": {},
   "outputs": [],
   "source": [
    "nemo_t_rean = coast.Gridded(fn_data=globreanalysis, \n",
    "                       config=\"example_cmems_grid_T.json\")"
   ]
  },
  {
   "cell_type": "code",
   "execution_count": 7,
   "id": "5fef52c4-df7d-4445-bcd7-5e6049f75498",
   "metadata": {},
   "outputs": [
    {
     "ename": "AttributeError",
     "evalue": "You cannot set the charset when no content-type is defined",
     "output_type": "error",
     "traceback": [
      "\u001b[0;31m---------------------------------------------------------------------------\u001b[0m",
      "\u001b[0;31mAttributeError\u001b[0m                            Traceback (most recent call last)",
      "\u001b[0;32m/tmp/ipykernel_1645/2164730481.py\u001b[0m in \u001b[0;36m<cell line: 1>\u001b[0;34m()\u001b[0m\n\u001b[0;32m----> 1\u001b[0;31m nemo_t_anfc = coast.Gridded(fn_data=glob__analysis, \n\u001b[0m\u001b[1;32m      2\u001b[0m                        config=\"example_cmems_grid_T.json\")\n",
      "\u001b[0;32m~/Git/COAsT/coast/data/gridded.py\u001b[0m in \u001b[0;36m__init__\u001b[0;34m(self, fn_data, fn_domain, multiple, config, workers, threads, memory_limit_per_worker, **kwargs)\u001b[0m\n\u001b[1;32m     53\u001b[0m             \u001b[0mdebug\u001b[0m\u001b[0;34m(\u001b[0m\u001b[0;34m\"Config file expected. Limited functionality without config file\"\u001b[0m\u001b[0;34m)\u001b[0m\u001b[0;34m\u001b[0m\u001b[0;34m\u001b[0m\u001b[0m\n\u001b[1;32m     54\u001b[0m             \u001b[0;32mif\u001b[0m \u001b[0mself\u001b[0m\u001b[0;34m.\u001b[0m\u001b[0mfn_data\u001b[0m \u001b[0;32mis\u001b[0m \u001b[0;32mnot\u001b[0m \u001b[0;32mNone\u001b[0m\u001b[0;34m:\u001b[0m\u001b[0;34m\u001b[0m\u001b[0;34m\u001b[0m\u001b[0m\n\u001b[0;32m---> 55\u001b[0;31m                 \u001b[0mself\u001b[0m\u001b[0;34m.\u001b[0m\u001b[0mload\u001b[0m\u001b[0;34m(\u001b[0m\u001b[0mself\u001b[0m\u001b[0;34m.\u001b[0m\u001b[0mfn_data\u001b[0m\u001b[0;34m,\u001b[0m \u001b[0;32mNone\u001b[0m\u001b[0;34m,\u001b[0m \u001b[0mmultiple\u001b[0m\u001b[0;34m)\u001b[0m\u001b[0;34m\u001b[0m\u001b[0;34m\u001b[0m\u001b[0m\n\u001b[0m\u001b[1;32m     56\u001b[0m             \u001b[0;32mif\u001b[0m \u001b[0mself\u001b[0m\u001b[0;34m.\u001b[0m\u001b[0mfn_domain\u001b[0m \u001b[0;32mis\u001b[0m \u001b[0;32mnot\u001b[0m \u001b[0;32mNone\u001b[0m\u001b[0;34m:\u001b[0m\u001b[0;34m\u001b[0m\u001b[0;34m\u001b[0m\u001b[0m\n\u001b[1;32m     57\u001b[0m                 \u001b[0mself\u001b[0m\u001b[0;34m.\u001b[0m\u001b[0mfilename_domain\u001b[0m \u001b[0;34m=\u001b[0m \u001b[0mself\u001b[0m\u001b[0;34m.\u001b[0m\u001b[0mfn_domain\u001b[0m\u001b[0;34m\u001b[0m\u001b[0;34m\u001b[0m\u001b[0m\n",
      "\u001b[0;32m~/Git/COAsT/coast/data/coast.py\u001b[0m in \u001b[0;36mload\u001b[0;34m(self, file_or_dir, chunks, multiple)\u001b[0m\n\u001b[1;32m     69\u001b[0m             \u001b[0;32mraise\u001b[0m \u001b[0mNotImplementedError\u001b[0m\u001b[0;34m(\u001b[0m\u001b[0;34m\"Loading multiple OPeNDAP datasets is not supported\"\u001b[0m\u001b[0;34m)\u001b[0m\u001b[0;34m\u001b[0m\u001b[0;34m\u001b[0m\u001b[0m\n\u001b[1;32m     70\u001b[0m         \u001b[0;32melif\u001b[0m \u001b[0mopendap\u001b[0m\u001b[0;34m:\u001b[0m\u001b[0;34m\u001b[0m\u001b[0;34m\u001b[0m\u001b[0m\n\u001b[0;32m---> 71\u001b[0;31m             \u001b[0mself\u001b[0m\u001b[0;34m.\u001b[0m\u001b[0mload_dataset\u001b[0m\u001b[0;34m(\u001b[0m\u001b[0mfile_or_dir\u001b[0m\u001b[0;34m.\u001b[0m\u001b[0mopen_dataset\u001b[0m\u001b[0;34m(\u001b[0m\u001b[0mchunks\u001b[0m\u001b[0;34m=\u001b[0m\u001b[0mchunks\u001b[0m\u001b[0;34m)\u001b[0m\u001b[0;34m)\u001b[0m\u001b[0;34m\u001b[0m\u001b[0;34m\u001b[0m\u001b[0m\n\u001b[0m\u001b[1;32m     72\u001b[0m         \u001b[0;32melif\u001b[0m \u001b[0mmultiple\u001b[0m\u001b[0;34m:\u001b[0m\u001b[0;34m\u001b[0m\u001b[0;34m\u001b[0m\u001b[0m\n\u001b[1;32m     73\u001b[0m             \u001b[0mself\u001b[0m\u001b[0;34m.\u001b[0m\u001b[0mload_multiple\u001b[0m\u001b[0;34m(\u001b[0m\u001b[0mfile_or_dir\u001b[0m\u001b[0;34m,\u001b[0m \u001b[0mchunks\u001b[0m\u001b[0;34m)\u001b[0m\u001b[0;34m\u001b[0m\u001b[0;34m\u001b[0m\u001b[0m\n",
      "\u001b[0;32m~/Git/COAsT/coast/data/opendap.py\u001b[0m in \u001b[0;36mopen_dataset\u001b[0;34m(self, chunks)\u001b[0m\n\u001b[1;32m     37\u001b[0m             \u001b[0mThe\u001b[0m \u001b[0mopened\u001b[0m \u001b[0mXArray\u001b[0m \u001b[0mdataset\u001b[0m\u001b[0;34m.\u001b[0m\u001b[0;34m\u001b[0m\u001b[0;34m\u001b[0m\u001b[0m\n\u001b[1;32m     38\u001b[0m         \"\"\"\n\u001b[0;32m---> 39\u001b[0;31m         \u001b[0;32mwith\u001b[0m \u001b[0mopen_dataset\u001b[0m\u001b[0;34m(\u001b[0m\u001b[0mself\u001b[0m\u001b[0;34m.\u001b[0m\u001b[0mget_store\u001b[0m\u001b[0;34m(\u001b[0m\u001b[0;34m)\u001b[0m\u001b[0;34m,\u001b[0m \u001b[0mchunks\u001b[0m\u001b[0;34m=\u001b[0m\u001b[0mchunks\u001b[0m\u001b[0;34m)\u001b[0m \u001b[0;32mas\u001b[0m \u001b[0mdataset\u001b[0m\u001b[0;34m:\u001b[0m\u001b[0;34m\u001b[0m\u001b[0;34m\u001b[0m\u001b[0m\n\u001b[0m\u001b[1;32m     40\u001b[0m             \u001b[0;32mreturn\u001b[0m \u001b[0mdataset\u001b[0m\u001b[0;34m\u001b[0m\u001b[0;34m\u001b[0m\u001b[0m\n\u001b[1;32m     41\u001b[0m \u001b[0;34m\u001b[0m\u001b[0m\n",
      "\u001b[0;32m~/Git/COAsT/coast/data/opendap.py\u001b[0m in \u001b[0;36mget_store\u001b[0;34m(self)\u001b[0m\n\u001b[1;32m     26\u001b[0m             \u001b[0mThe\u001b[0m \u001b[0mOPeNDAP\u001b[0m \u001b[0mdata\u001b[0m \u001b[0mstore\u001b[0m \u001b[0maccessed\u001b[0m \u001b[0;32mfrom\u001b[0m \u001b[0mthe\u001b[0m \u001b[0minstance\u001b[0m\u001b[0;31m'\u001b[0m\u001b[0ms\u001b[0m \u001b[0mURL\u001b[0m\u001b[0;34m.\u001b[0m\u001b[0;34m\u001b[0m\u001b[0;34m\u001b[0m\u001b[0m\n\u001b[1;32m     27\u001b[0m         \"\"\"\n\u001b[0;32m---> 28\u001b[0;31m         \u001b[0;32mreturn\u001b[0m \u001b[0mPydapDataStore\u001b[0m\u001b[0;34m(\u001b[0m\u001b[0mopen_url\u001b[0m\u001b[0;34m(\u001b[0m\u001b[0mself\u001b[0m\u001b[0;34m.\u001b[0m\u001b[0murl\u001b[0m\u001b[0;34m,\u001b[0m \u001b[0msession\u001b[0m\u001b[0;34m=\u001b[0m\u001b[0mself\u001b[0m\u001b[0;34m.\u001b[0m\u001b[0msession\u001b[0m\u001b[0;34m)\u001b[0m\u001b[0;34m)\u001b[0m\u001b[0;34m\u001b[0m\u001b[0;34m\u001b[0m\u001b[0m\n\u001b[0m\u001b[1;32m     29\u001b[0m \u001b[0;34m\u001b[0m\u001b[0m\n\u001b[1;32m     30\u001b[0m     \u001b[0;32mdef\u001b[0m \u001b[0mopen_dataset\u001b[0m\u001b[0;34m(\u001b[0m\u001b[0mself\u001b[0m\u001b[0;34m,\u001b[0m \u001b[0mchunks\u001b[0m\u001b[0;34m:\u001b[0m \u001b[0mOptional\u001b[0m\u001b[0;34m[\u001b[0m\u001b[0mdict\u001b[0m\u001b[0;34m]\u001b[0m \u001b[0;34m=\u001b[0m \u001b[0;32mNone\u001b[0m\u001b[0;34m)\u001b[0m \u001b[0;34m->\u001b[0m \u001b[0mDataset\u001b[0m\u001b[0;34m:\u001b[0m\u001b[0;34m\u001b[0m\u001b[0;34m\u001b[0m\u001b[0m\n",
      "\u001b[0;32m~/miniconda3/envs/coast_dev/lib/python3.8/site-packages/pydap/client.py\u001b[0m in \u001b[0;36mopen_url\u001b[0;34m(url, application, session, output_grid, timeout, verify, user_charset)\u001b[0m\n\u001b[1;32m     64\u001b[0m     \u001b[0mnever\u001b[0m \u001b[0mretrieve\u001b[0m \u001b[0mcoordinate\u001b[0m \u001b[0maxes\u001b[0m\u001b[0;34m.\u001b[0m\u001b[0;34m\u001b[0m\u001b[0;34m\u001b[0m\u001b[0m\n\u001b[1;32m     65\u001b[0m     \"\"\"\n\u001b[0;32m---> 66\u001b[0;31m     dataset = DAPHandler(url, application, session, output_grid,\n\u001b[0m\u001b[1;32m     67\u001b[0m                          \u001b[0mtimeout\u001b[0m\u001b[0;34m=\u001b[0m\u001b[0mtimeout\u001b[0m\u001b[0;34m,\u001b[0m \u001b[0mverify\u001b[0m\u001b[0;34m=\u001b[0m\u001b[0mverify\u001b[0m\u001b[0;34m,\u001b[0m\u001b[0;34m\u001b[0m\u001b[0;34m\u001b[0m\u001b[0m\n\u001b[1;32m     68\u001b[0m                          user_charset=user_charset).dataset\n",
      "\u001b[0;32m~/miniconda3/envs/coast_dev/lib/python3.8/site-packages/pydap/handlers/dap.py\u001b[0m in \u001b[0;36m__init__\u001b[0;34m(self, url, application, session, output_grid, timeout, verify, user_charset)\u001b[0m\n\u001b[1;32m     55\u001b[0m                 verify=verify)\n\u001b[1;32m     56\u001b[0m         \u001b[0mraise_for_status\u001b[0m\u001b[0;34m(\u001b[0m\u001b[0mr\u001b[0m\u001b[0;34m)\u001b[0m\u001b[0;34m\u001b[0m\u001b[0;34m\u001b[0m\u001b[0m\n\u001b[0;32m---> 57\u001b[0;31m         \u001b[0mdds\u001b[0m \u001b[0;34m=\u001b[0m \u001b[0msafe_charset_text\u001b[0m\u001b[0;34m(\u001b[0m\u001b[0mr\u001b[0m\u001b[0;34m,\u001b[0m \u001b[0muser_charset\u001b[0m\u001b[0;34m)\u001b[0m\u001b[0;34m\u001b[0m\u001b[0;34m\u001b[0m\u001b[0m\n\u001b[0m\u001b[1;32m     58\u001b[0m \u001b[0;34m\u001b[0m\u001b[0m\n\u001b[1;32m     59\u001b[0m         \u001b[0mdasurl\u001b[0m \u001b[0;34m=\u001b[0m \u001b[0murlunsplit\u001b[0m\u001b[0;34m(\u001b[0m\u001b[0;34m(\u001b[0m\u001b[0mscheme\u001b[0m\u001b[0;34m,\u001b[0m \u001b[0mnetloc\u001b[0m\u001b[0;34m,\u001b[0m \u001b[0mpath\u001b[0m \u001b[0;34m+\u001b[0m \u001b[0;34m'.das'\u001b[0m\u001b[0;34m,\u001b[0m \u001b[0mquery\u001b[0m\u001b[0;34m,\u001b[0m \u001b[0mfragment\u001b[0m\u001b[0;34m)\u001b[0m\u001b[0;34m)\u001b[0m\u001b[0;34m\u001b[0m\u001b[0;34m\u001b[0m\u001b[0m\n",
      "\u001b[0;32m~/miniconda3/envs/coast_dev/lib/python3.8/site-packages/pydap/handlers/dap.py\u001b[0m in \u001b[0;36msafe_charset_text\u001b[0;34m(r, user_charset)\u001b[0m\n\u001b[1;32m    114\u001b[0m                 .decode(get_charset(r, user_charset)))\n\u001b[1;32m    115\u001b[0m     \u001b[0;32melse\u001b[0m\u001b[0;34m:\u001b[0m\u001b[0;34m\u001b[0m\u001b[0;34m\u001b[0m\u001b[0m\n\u001b[0;32m--> 116\u001b[0;31m         \u001b[0mr\u001b[0m\u001b[0;34m.\u001b[0m\u001b[0mcharset\u001b[0m \u001b[0;34m=\u001b[0m \u001b[0mget_charset\u001b[0m\u001b[0;34m(\u001b[0m\u001b[0mr\u001b[0m\u001b[0;34m,\u001b[0m \u001b[0muser_charset\u001b[0m\u001b[0;34m)\u001b[0m\u001b[0;34m\u001b[0m\u001b[0;34m\u001b[0m\u001b[0m\n\u001b[0m\u001b[1;32m    117\u001b[0m         \u001b[0;32mreturn\u001b[0m \u001b[0mr\u001b[0m\u001b[0;34m.\u001b[0m\u001b[0mtext\u001b[0m\u001b[0;34m\u001b[0m\u001b[0;34m\u001b[0m\u001b[0m\n\u001b[1;32m    118\u001b[0m \u001b[0;34m\u001b[0m\u001b[0m\n",
      "\u001b[0;32m~/miniconda3/envs/coast_dev/lib/python3.8/site-packages/webob/response.py\u001b[0m in \u001b[0;36m_charset__set\u001b[0;34m(self, charset)\u001b[0m\n\u001b[1;32m    793\u001b[0m         \u001b[0mheader\u001b[0m \u001b[0;34m=\u001b[0m \u001b[0mself\u001b[0m\u001b[0;34m.\u001b[0m\u001b[0mheaders\u001b[0m\u001b[0;34m.\u001b[0m\u001b[0mget\u001b[0m\u001b[0;34m(\u001b[0m\u001b[0;34m'Content-Type'\u001b[0m\u001b[0;34m,\u001b[0m \u001b[0;32mNone\u001b[0m\u001b[0;34m)\u001b[0m\u001b[0;34m\u001b[0m\u001b[0;34m\u001b[0m\u001b[0m\n\u001b[1;32m    794\u001b[0m         \u001b[0;32mif\u001b[0m \u001b[0mheader\u001b[0m \u001b[0;32mis\u001b[0m \u001b[0;32mNone\u001b[0m\u001b[0;34m:\u001b[0m\u001b[0;34m\u001b[0m\u001b[0;34m\u001b[0m\u001b[0m\n\u001b[0;32m--> 795\u001b[0;31m             raise AttributeError(\"You cannot set the charset when no \"\n\u001b[0m\u001b[1;32m    796\u001b[0m                                  \"content-type is defined\")\n\u001b[1;32m    797\u001b[0m         \u001b[0mmatch\u001b[0m \u001b[0;34m=\u001b[0m \u001b[0mCHARSET_RE\u001b[0m\u001b[0;34m.\u001b[0m\u001b[0msearch\u001b[0m\u001b[0;34m(\u001b[0m\u001b[0mheader\u001b[0m\u001b[0;34m)\u001b[0m\u001b[0;34m\u001b[0m\u001b[0;34m\u001b[0m\u001b[0m\n",
      "\u001b[0;31mAttributeError\u001b[0m: You cannot set the charset when no content-type is defined"
     ]
    }
   ],
   "source": [
    "nemo_t_anfc = coast.Gridded(fn_data=glob__analysis, \n",
    "                       config=\"example_cmems_grid_T.json\")"
   ]
  },
  {
   "cell_type": "code",
   "execution_count": null,
   "id": "809431bf-da3f-4d46-9d6c-725101af8321",
   "metadata": {},
   "outputs": [],
   "source": [
    "nemo_t_rean.dataset\n",
    "nemo_t_anfc.dataset"
   ]
  },
  {
   "cell_type": "code",
   "execution_count": null,
   "id": "cd1fc42a-e3bb-4479-bda4-1924168d5fd6",
   "metadata": {},
   "outputs": [],
   "source": [
    "x_min=-20\n",
    "x_max=13\n",
    "y_min=40\n",
    "y_max=60\n",
    "nemo_t.make_lonLat_2d()\n",
    "j,i,_=nemo_t_rean.find_j_i_list(lon=[x_min,x_max,x_max,x_min],lat=[y_min,y_min,y_max,y_max])\n",
    "\n",
    "imin=min(i)\n",
    "imax=max(i)\n",
    "jmin=min(j)\n",
    "jmax=max(j)\n",
    "\n",
    "\n",
    "T=np.arange(0,336,12)\n"
   ]
  },
  {
   "cell_type": "code",
   "execution_count": null,
   "id": "6aee8b02-fd25-47cc-bc8b-b04492a405ff",
   "metadata": {},
   "outputs": [],
   "source": [
    "nemo_t1=nemo_t_rean.subset_as_copy(longitude=range(imin,imax),latitude=range(jmin,jmax),depth=0,time=T)\n",
    "nt,ny,nx=nemo_t1.dataset.thetao.shape\n",
    "tmp_clim=np.zeros((12,ny,nx))\n"
   ]
  },
  {
   "cell_type": "code",
   "execution_count": null,
   "id": "a21dbc42-26f2-47f1-a43e-fb742ae8a1f7",
   "metadata": {},
   "outputs": [],
   "source": [
    "nemo_t1.dataset"
   ]
  },
  {
   "cell_type": "code",
   "execution_count": null,
   "id": "d35062a3-78a7-4632-b978-ad0f20f0aeb5",
   "metadata": {},
   "outputs": [],
   "source": [
    "for im in [6]:# range(12):\n",
    "    print(im)\n",
    "    T=np.arange(im,336,12)\n",
    "    nemo_t1=nemo_t_rean.subset_as_copy(longitude=range(imin,imax),latitude=range(jmin,jmax),depth=0,time=T)\n",
    "    tmpm=nemo_t1.dataset.thetao.mean(dim=\"time\").values\n",
    "    tmp_clim[im,:,:]=tmpm\n"
   ]
  },
  {
   "cell_type": "code",
   "execution_count": null,
   "id": "db4d1cd6-4009-4e9a-a6e8-8dcc0e3f4a3f",
   "metadata": {},
   "outputs": [],
   "source": [
    "plt.pcolormesh(tmpm)\n",
    "plt.colorbar(orientation='horizontal')"
   ]
  },
  {
   "cell_type": "code",
   "execution_count": null,
   "id": "a824aa23-131e-4e56-8f2a-0416ca961feb",
   "metadata": {},
   "outputs": [],
   "source": []
  },
  {
   "cell_type": "code",
   "execution_count": null,
   "id": "0467b334-f2af-46b8-9679-00407cd8efb7",
   "metadata": {},
   "outputs": [],
   "source": []
  }
 ],
 "metadata": {
  "kernelspec": {
   "display_name": "coast_dev",
   "language": "python",
   "name": "coast_dev"
  },
  "language_info": {
   "codemirror_mode": {
    "name": "ipython",
    "version": 3
   },
   "file_extension": ".py",
   "mimetype": "text/x-python",
   "name": "python",
   "nbconvert_exporter": "python",
   "pygments_lexer": "ipython3",
   "version": "3.8.13"
  }
 },
 "nbformat": 4,
 "nbformat_minor": 5
}
