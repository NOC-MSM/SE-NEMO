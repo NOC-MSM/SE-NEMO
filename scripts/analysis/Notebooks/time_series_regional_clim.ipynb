{
 "cells": [
  {
   "cell_type": "code",
   "execution_count": 1,
   "id": "845353d4-da1f-467a-a5e3-3da9ff8a4688",
   "metadata": {},
   "outputs": [],
   "source": [
    "import xarray as xr\n",
    "import matplotlib.pylab as plt\n",
    "import numpy as np\n",
    "import pandas as pd\n",
    "import scipy\n"
   ]
  },
  {
   "cell_type": "code",
   "execution_count": 2,
   "id": "d056c1bb-1b76-414f-ab99-b481de773cbc",
   "metadata": {},
   "outputs": [],
   "source": [
    "fnames=['ORCA025-SE-NEMO_1990_2019_GS1p2_full_SST_SSS_PEA_MonClimate.nc',\n",
    "'ORCA025-SE-NEMO_1990_2019_GS1p0_notide_SST_SSS_PEA_MonClimate.nc']\n",
    "names=['GS1p7_full','GS1p0_notide']\n",
    "\n",
    "dpath='/home/users/jholt/work/SENEMO/ASSESSMENT/ORCA025-SE-NEMO'\n",
    "fn_bathymetry='/home/users/jholt/work/SENEMO/senemo/INPUTS/eORCA025_bathy_meter.nc' \n",
    "\n",
    "datapath_LME ='/home/users/jholt/work/SENEMO/ASSESSMENT/EN4/'\n",
    "DATANAME='ORCA025_1978-2019'\n",
    "#DATANAME='ORCA025'\n",
    "f_bathy=xr.open_dataset(fn_bathymetry)\n",
    "\n",
    "J_offset=186 #account for extra rows in eORCA if data is made for normal ORCA\n",
    "J_offset=0\n",
    "J_offset_mask=186\n",
    "A=np.load('../Data/LME_gridinfo_V4.npz')\n",
    "a=scipy.io.loadmat('../Data/ORCA025_ROAM_GLB_LMEmaskV4.mat')\n",
    "LME_mask=np.array(a['LME_mask'][:,:].T)"
   ]
  },
  {
   "cell_type": "code",
   "execution_count": 3,
   "id": "16d2e5a6-49a4-4b78-b515-56158449656c",
   "metadata": {},
   "outputs": [
    {
     "data": {
      "text/plain": [
       "(1021, 1442)"
      ]
     },
     "execution_count": 3,
     "metadata": {},
     "output_type": "execute_result"
    }
   ],
   "source": [
    "LME_mask.shape"
   ]
  },
  {
   "cell_type": "code",
   "execution_count": 4,
   "id": "b1acefcf-1400-43d5-a64f-cdf5920ed79e",
   "metadata": {},
   "outputs": [],
   "source": [
    "LME_Clusters='../Data/LME_Clusters_eORCA025.csv'\n",
    "clusters = pd.read_csv(LME_Clusters)\n",
    "nclusters=clusters.values.shape[0]\n",
    "iwant_clusters=range(1,23)"
   ]
  },
  {
   "cell_type": "code",
   "execution_count": null,
   "id": "92f01dd1-8af6-4055-90de-b7e6685f04a5",
   "metadata": {},
   "outputs": [],
   "source": [
    "def map_to_grid(Var_out,Var_in,j_min,j_max,i_min,i_max):\n",
    "    "
   ]
  },
  {
   "cell_type": "code",
   "execution_count": 5,
   "id": "8afc5fd6-68fa-4f39-94db-871271f8487e",
   "metadata": {},
   "outputs": [
    {
     "name": "stdout",
     "output_type": "stream",
     "text": [
      "(137, 242)\n",
      "Canadian_High_Arctic_-_North_Greenland_66 [ 504  700 1150 1161]\n",
      "Beaufort_Sea_55 [ 470  700 1085 1145]\n",
      "(77, 291)\n",
      "Canadian_High_Arctic_-_North_Greenland_66 [ 784 1074 1150 1161]\n",
      "(213, 168)\n",
      "East_Bering_Sea_01 [401 508 928 985]\n",
      "Central_Arctic_64 [ 404  457  987 1124]\n",
      "Aleutian_Islands_65 [396 469 917 936]\n",
      "West_Bering_Sea_53 [341 424 916 991]\n",
      "(308, 198)\n",
      "Hudson_Bay_Complex_63 [ 786  908  939 1100]\n",
      "Canadian_Eastern_Arctic_-_West_Greenland_18 [ 902  981  972 1137]\n",
      "Labrador_-_Newfoundland_09 [875 976 874 996]\n",
      "(165, 181)\n",
      "Greenland_Sea_19 [ 981 1115  971 1135]\n",
      "Norwegian_Sea_21 [1095 1144 1001 1108]\n",
      "Iceland_Shelf_and_Sea_59 [1033 1104  992 1055]\n",
      "(160, 164)\n",
      "Barents_Sea_20 [1084 1176 1068 1194]\n",
      "(221, 194)\n",
      "Yellow_Sea_48 [181 216 822 870]\n",
      "East_China_Sea_47 [185 232 784 836]\n",
      "Kuroshio_Current_49 [193 294 772 875]\n",
      "Sea_of_Japan_50 [220 284 830 941]\n",
      "Oyashio_Current_51 [284 346 865 921]\n",
      "Sea_of_Okhotsk_52 [262 374 882 992]\n",
      "(121, 155)\n",
      "Gulf_of_Alaska_02 [ 503  657  884 1002]\n",
      "(143, 106)\n",
      "California_Current_03 [620 713 774 916]\n",
      "Gulf_of_California_04 [690 725 774 818]\n",
      "(125, 105)\n",
      "Southeast_U.S._Continental_Shelf_06 [824 848 789 835]\n",
      "Northeast_U.S._Continental_Shelf_07 [844 892 836 893]\n",
      "Scotian_Shelf_08 [886 928 874 913]\n",
      "(172, 146)\n",
      "North_Sea_22 [1116 1184  926  998]\n",
      "Baltic_Sea_23 [1177 1234  954 1050]\n",
      "Celtic-Biscay_Shelf_24 [1089 1150  881  977]\n",
      "Faroe_Plateau_60 [1091 1118  977  998]\n",
      "(118, 215)\n",
      "Iberian_Coastal_25 [1100 1141  839  885]\n",
      "Mediterranean_Sea_26 [1127 1293  812  897]\n",
      "Black_Sea_62 [1258 1314  876  929]\n",
      "(145, 149)\n",
      "Gulf_of_Thailand_35 [106 129 691 738]\n",
      "South_China_Sea_36 [123 199 675 786]\n",
      "Sulu-Celebes_Sea_37 [178 224 688 743]\n",
      "Indonesian_Sea_38 [133 254 642 694]\n",
      "(147, 225)\n",
      "Pacific_Central-American_Coastal_11 [688 839 667 776]\n",
      "Gulf_of_Mexico_05 [758 828 758 813]\n",
      "Caribbean_Sea_12 [794 912 718 794]\n",
      "(144, 117)\n",
      "North_Brazil_Shelf_17 [905 986 673 733]\n",
      "East_Brazil_Shelf_16 [ 981 1021  590  685]\n",
      "(184, 132)\n",
      "Canary_Current_27 [1067 1126  731  839]\n",
      "Guinea_Current_28 [1070 1198  656  732]\n",
      "(126, 285)\n",
      "/home/users/jholt/work/SENEMO/ASSESSMENT/EN4//ORCA025_1978-2019/Red_Sea_33_EN4_eORCA025_PEA_SST_SSS_V3.nc\n",
      "Arabian_Sea_32 [1345   13  708  812]\n",
      "Bay_of_Bengal_34 [1280  122  687  777]\n",
      "(197, 282)\n",
      "Northeast_Australian_Shelf_40 [273 344 584 653]\n",
      "East_Central_Australian_Shelf_41 [310 343 527 598]\n",
      "Southeast_Australian_Shelf_42 [236 328 470 532]\n",
      "South_West_Australian_Shelf_43 [153 262 517 550]\n",
      "West_Central_Australian_Shelf_44 [146 171 538 600]\n",
      "Northwest_Australian_Shelf_45 [153 217 593 637]\n",
      "North_Australian_Shelf_39 [211 279 612 648]\n",
      "New_Zealand_Shelf_46 [374 427 457 548]\n",
      "(265, 72)\n",
      "Humboldt_Current_13 [817 888 402 666]\n",
      "(174, 124)\n",
      "South_Brazil_Shelf_15 [936 996 534 593]\n",
      "Patagonian_Shelf_14 [873 941 420 539]\n",
      "(133, 47)\n",
      "Benguela_Current_29 [1181 1227  527  659]\n",
      "(204, 135)\n",
      "Agulhas_Current_30 [1222 1355  525  647]\n",
      "Somali_Coastal_Current_31 [1305 1356  645  728]\n"
     ]
    }
   ],
   "source": [
    "SST_EN4={}\n",
    "SSS_EN4={}\n",
    "PEA_EN4={}\n",
    "\n",
    "for icluster in iwant_clusters:\n",
    "\n",
    "     lmes=clusters.values[icluster,10:]\n",
    "     ilmes=np.array([])\n",
    "     for LME in lmes:\n",
    "     #try:\n",
    "     #    ilmes=np.append(ilmes,int(LME[-2:]))\n",
    "     #except:\n",
    "     #    ilmes=np.append(ilmes,-1)\n",
    "        if not type(LME)==float:\n",
    "             ilmes=np.append(ilmes,int(LME[-2:]))\n",
    "        else:\n",
    "             ilmes=np.append(ilmes,-1)\n",
    "\n",
    "    \n",
    "    \n",
    "             \n",
    "     Cluster_Name=clusters.values[icluster,1]\n",
    "     #eORCA025 index of cluster\n",
    "     i_min1=int(clusters.values[icluster,2])\n",
    "     i_max1=int(clusters.values[icluster,3])\n",
    "     j_min1=int(clusters.values[icluster,4])\n",
    "     j_max1=int(clusters.values[icluster,5])\n",
    "     if i_max1 > i_min1:\n",
    "         D=f_bathy.Bathymetry.values[j_min1:j_max1+1,i_min1:i_max1+1]\n",
    "         LMEmask=LME_mask[(j_min1-J_offset_mask):(j_max1-J_offset_mask+1),i_min1:i_max1+1]\n",
    "     else:\n",
    "         D1 = f_bathy.Bathymetry.values[j_min1:j_max1+1,i_min1:]\n",
    "         D2 = f_bathy.Bathymetry.values[j_min1:j_max1+1,:i_max1+1]\n",
    "         D=np.concatenate((D1,D2),axis=1)\n",
    "         LMEmask1=LME_mask[(j_min1-J_offset_mask):(j_max1-J_offset_mask+1),i_min1:]\n",
    "         LMEmask2=LME_mask[(j_min1-J_offset_mask):(j_max1-J_offset_mask+1),:i_max1+1]\n",
    "         LMEmask=np.concatenate((LMEmask1,LMEmask2),axis=1)\n",
    "         nX = f_bathy.Bathymetry.shape[1] - i_min1\n",
    "     print(D.shape)    \n",
    "     Depth=np.repeat(D[np.newaxis,:,:],12,axis=0)\n",
    "     SST_EN4[icluster]=np.zeros(Depth.shape)\n",
    "     SSS_EN4[icluster]=np.zeros(Depth.shape)\n",
    "     PEA_EN4[icluster]=np.zeros(Depth.shape)     \n",
    "     mask=np.zeros((Depth.shape[1],Depth.shape[2]))\n",
    "     for ilme,LMENAM in enumerate(lmes):\n",
    "        if isinstance(LMENAM,str):\n",
    "                            \n",
    "            \n",
    "       # try:\n",
    "            \n",
    "            is_file=True\n",
    "            try:\n",
    "                #EN4=xr.open_dataset(f\"{datapath_LME}/{DATANAME}/{LMENAM}_EN4mnthgrid_V3.nc\")\n",
    "                EN4=xr.open_dataset(f\"{datapath_LME}/{DATANAME}/{LMENAM}_1978_2019_EN4_eORCA025_PEA_SST_SSS_v1.nc\")\n",
    "            except:\n",
    "                is_file=False\n",
    "                print(f\"{datapath_LME}/{DATANAME}/{LMENAM}_EN4_eORCA025_PEA_SST_SSS_V3.nc\")\n",
    "            if is_file:\n",
    "                #ORCA025 index of LME bounds\n",
    "                dx=EN4.x_dim.shape[0]-1\n",
    "                lims=EN4.lims.values\n",
    "                lims=np.array([lims[2],lims[3],lims[0],lims[1]]) # re-order to i,i,j,j\n",
    "                #conver to eORCA grid\n",
    "                lims[[2,3]]=lims[[2,3]] +J_offset\n",
    "\n",
    "                lims1=np.copy(lims)\n",
    "                lims1[0]=np.max([lims[0],i_min1])\n",
    "                lims1[1]=np.min([lims[1],i_max1])\n",
    "                lims1[2]=np.max([lims[2],j_min1])\n",
    "                lims1[3]=np.min([lims[3],j_max1])\n",
    "                print(LMENAM,lims1)\n",
    "                #index of the LME data\n",
    "                i_min2=lims1[0]-lims[0]\n",
    "                i_max2=lims1[1]-lims[0]\n",
    "                j_min2=lims1[2]-lims[2]\n",
    "                j_max2=lims1[3]-lims[2]\n",
    "\n",
    "                    \n",
    "\n",
    "                #Index of LME portion of CLuster\n",
    "                i_min=lims1[0]-i_min1\n",
    "                #lims1[1]-i_min1\n",
    "                i_max=lims1[1]-i_min1\n",
    "                j_min=lims1[2]-j_min1\n",
    "                j_max=lims1[3]-j_min1\n",
    "                \n",
    "                if lims[0]>lims[1]:\n",
    "                    i_max2=dx-1                \n",
    "                    i_max=i_min + dx-1 \n",
    "                if lims[0]<lims[1] and i_min1 > i_max1:\n",
    "                    \n",
    "                    i_min2=0\n",
    "                    i_max2=dx-1\n",
    "                    i_min=lims1[0]-i_min1 + nX\n",
    "                    i_max=i_min + dx-1\n",
    "                mask[LMEmask==ilmes[ilme]]=1\n",
    "                SST_EN4_LME=EN4.sst_g.values[:,:,:]\n",
    "                SSS_EN4_LME=EN4.sss_g.values[:,:,:]\n",
    "                PEA_EN4_LME=EN4.pea_g.values[:,:,:]\n",
    "                #SST_EN4_LME=EN4.SST_g.values[:,:,:].T\n",
    "                #SSS_EN4_LME=EN4.SSS_g.values[:,:,:].T\n",
    "                #PEA_EN4_LME=EN4.PEA_g.values[:,:,:].T\n",
    "                \n",
    "                SST_EN4_LME[~np.isfinite(SST_EN4_LME)]=0.\n",
    "                SSS_EN4_LME[~np.isfinite(SSS_EN4_LME)]=0.\n",
    "                PEA_EN4_LME[~np.isfinite(PEA_EN4_LME)]=0.\n",
    "                PEA_EN4_LME[PEA_EN4_LME<0]=0.    \n",
    "                PEA_EN4_LME[PEA_EN4_LME>1000]=0.    \n",
    "                mm=LMEmask[j_min:j_max+1,i_min:i_max+1]==ilmes[ilme]\n",
    "                #mm=1\n",
    "                SST_EN4[icluster][:,j_min:j_max+1,i_min:i_max+1]=(SST_EN4[icluster][:,j_min:j_max+1,i_min:i_max+1]+\n",
    "                                                                 SST_EN4_LME[:,j_min2:j_max2+1,i_min2:i_max2+1]*mm)\n",
    "                SSS_EN4[icluster][:,j_min:j_max+1,i_min:i_max+1]=(SSS_EN4[icluster][:,j_min:j_max+1,i_min:i_max+1]+\n",
    "                                                                  SSS_EN4_LME[:,j_min2:j_max2+1,i_min2:i_max2+1]*mm)\n",
    "                PEA_EN4[icluster][:,j_min:j_max+1,i_min:i_max+1]=(PEA_EN4[icluster][:,j_min:j_max+1,i_min:i_max+1]+\n",
    "                                                                  PEA_EN4_LME[:,j_min2:j_max2+1,i_min2:i_max2+1]*mm)\n",
    "           # except:\n",
    "           #     continue\n",
    "    \n",
    "             \n",
    "     mask=np.repeat(mask[np.newaxis,:,:],12,axis=0)\n",
    "    \n",
    "     SST_EN4[icluster][SST_EN4[icluster]==0]=np.nan\n",
    "     SSS_EN4[icluster][SSS_EN4[icluster]==0]=np.nan\n",
    "     PEA_EN4[icluster][PEA_EN4[icluster]==0]=np.nan\n",
    "     \n",
    "     SST_EN4[icluster][mask==0]=np.nan\n",
    "     SSS_EN4[icluster][mask==0]=np.nan\n",
    "     PEA_EN4[icluster][mask==0]=np.nan"
   ]
  },
  {
   "cell_type": "code",
   "execution_count": 6,
   "id": "7bad8244-679f-4c6b-aa89-b698df7613a1",
   "metadata": {},
   "outputs": [
    {
     "data": {
      "text/plain": [
       "22"
      ]
     },
     "execution_count": 6,
     "metadata": {},
     "output_type": "execute_result"
    }
   ],
   "source": [
    "icluster"
   ]
  },
  {
   "cell_type": "code",
   "execution_count": 7,
   "id": "3766548e-24de-47e7-8727-509ba38452e9",
   "metadata": {},
   "outputs": [
    {
     "data": {
      "text/plain": [
       "1356"
      ]
     },
     "execution_count": 7,
     "metadata": {},
     "output_type": "execute_result"
    }
   ],
   "source": [
    "i_max1"
   ]
  },
  {
   "cell_type": "code",
   "execution_count": 8,
   "id": "e9f4da9f-a31c-4cb2-ad73-1b21af3d6285",
   "metadata": {},
   "outputs": [
    {
     "data": {
      "text/plain": [
       "<matplotlib.colorbar.Colorbar at 0x7f5a72b414f0>"
      ]
     },
     "execution_count": 8,
     "metadata": {},
     "output_type": "execute_result"
    },
    {
     "data": {
      "image/png": "[encoded data removed]",
      "text/plain": [
       "<Figure size 432x288 with 2 Axes>"
      ]
     },
     "metadata": {
      "needs_background": "light"
     },
     "output_type": "display_data"
    }
   ],
   "source": [
    "plt.pcolormesh(PEA_EN4[17][6,:,:]);plt.colorbar(orientation='horizontal')\n"
   ]
  },
  {
   "cell_type": "code",
   "execution_count": 11,
   "id": "f7b52c1a-f964-4e9c-9652-b6a0a4020561",
   "metadata": {},
   "outputs": [
    {
     "name": "stdout",
     "output_type": "stream",
     "text": [
      "W Canadian Arctic\n"
     ]
    },
    {
     "name": "stderr",
     "output_type": "stream",
     "text": [
      "/tmp/ipykernel_2018/3130203617.py:32: RuntimeWarning: Mean of empty slice\n",
      "  PEA_co_mean[name,icluster][it]=np.nanmean(PEA_co[it,:,:])\n",
      "/tmp/ipykernel_2018/3130203617.py:37: RuntimeWarning: Mean of empty slice\n",
      "  SSS_co_mean[name,icluster][it]=np.nanmean(SSS_co[it,:,:])\n",
      "/tmp/ipykernel_2018/3130203617.py:42: RuntimeWarning: Mean of empty slice\n",
      "  SST_co_mean[name,icluster][it]=np.nanmean(SST_co[it,:,:])\n"
     ]
    },
    {
     "name": "stdout",
     "output_type": "stream",
     "text": [
      "E Canadian Arctic\n",
      "Bering Sea\n",
      "NE N America\n",
      "Nordic Seas\n",
      "Barents Sea\n",
      "E Asia\n",
      "NW N America\n",
      "W N America\n",
      "E N America\n",
      "NW Europe\n",
      "Med, Ibi, Black Seas\n",
      "SE Asia\n",
      "C America\n",
      "NE S America\n",
      "NW Africa\n",
      "S Asia\n"
     ]
    },
    {
     "ename": "IndexError",
     "evalue": "boolean index did not match indexed array along dimension 2; dimension is 0 but corresponding boolean dimension is 285",
     "output_type": "error",
     "traceback": [
      "\u001b[0;31m---------------------------------------------------------------------------\u001b[0m",
      "\u001b[0;31mIndexError\u001b[0m                                Traceback (most recent call last)",
      "\u001b[0;32m/tmp/ipykernel_2018/3130203617.py\u001b[0m in \u001b[0;36m<cell line: 5>\u001b[0;34m()\u001b[0m\n\u001b[1;32m     15\u001b[0m         \u001b[0mPEAy\u001b[0m\u001b[0;34m=\u001b[0m\u001b[0mf\u001b[0m\u001b[0;34m.\u001b[0m\u001b[0mpea_monthy_clim\u001b[0m\u001b[0;34m.\u001b[0m\u001b[0mvalues\u001b[0m\u001b[0;34m[\u001b[0m\u001b[0;34m:\u001b[0m\u001b[0;34m,\u001b[0m\u001b[0mj_min1\u001b[0m\u001b[0;34m:\u001b[0m\u001b[0mj_max1\u001b[0m\u001b[0;34m+\u001b[0m\u001b[0;36m1\u001b[0m\u001b[0;34m,\u001b[0m\u001b[0mi_min1\u001b[0m\u001b[0;34m:\u001b[0m\u001b[0mi_max1\u001b[0m\u001b[0;34m+\u001b[0m\u001b[0;36m1\u001b[0m\u001b[0;34m]\u001b[0m\u001b[0;34m\u001b[0m\u001b[0;34m\u001b[0m\u001b[0m\n\u001b[1;32m     16\u001b[0m         \u001b[0mPEA_co\u001b[0m\u001b[0;34m=\u001b[0m\u001b[0mnp\u001b[0m\u001b[0;34m.\u001b[0m\u001b[0mcopy\u001b[0m\u001b[0;34m(\u001b[0m\u001b[0mPEAy\u001b[0m\u001b[0;34m)\u001b[0m\u001b[0;34m\u001b[0m\u001b[0;34m\u001b[0m\u001b[0m\n\u001b[0;32m---> 17\u001b[0;31m         \u001b[0mPEA_co\u001b[0m\u001b[0;34m[\u001b[0m\u001b[0mnp\u001b[0m\u001b[0;34m.\u001b[0m\u001b[0misnan\u001b[0m\u001b[0;34m(\u001b[0m\u001b[0mPEA_EN4\u001b[0m\u001b[0;34m[\u001b[0m\u001b[0micluster\u001b[0m\u001b[0;34m]\u001b[0m\u001b[0;34m)\u001b[0m\u001b[0;34m]\u001b[0m\u001b[0;34m=\u001b[0m\u001b[0mnp\u001b[0m\u001b[0;34m.\u001b[0m\u001b[0mnan\u001b[0m\u001b[0;34m\u001b[0m\u001b[0;34m\u001b[0m\u001b[0m\n\u001b[0m\u001b[1;32m     18\u001b[0m \u001b[0;34m\u001b[0m\u001b[0m\n\u001b[1;32m     19\u001b[0m         \u001b[0mSSSy\u001b[0m\u001b[0;34m=\u001b[0m\u001b[0mf\u001b[0m\u001b[0;34m.\u001b[0m\u001b[0msss_monthy_clim\u001b[0m\u001b[0;34m.\u001b[0m\u001b[0mvalues\u001b[0m\u001b[0;34m[\u001b[0m\u001b[0;34m:\u001b[0m\u001b[0;34m,\u001b[0m\u001b[0mj_min1\u001b[0m\u001b[0;34m:\u001b[0m\u001b[0mj_max1\u001b[0m\u001b[0;34m+\u001b[0m\u001b[0;36m1\u001b[0m\u001b[0;34m,\u001b[0m\u001b[0mi_min1\u001b[0m\u001b[0;34m:\u001b[0m\u001b[0mi_max1\u001b[0m\u001b[0;34m+\u001b[0m\u001b[0;36m1\u001b[0m\u001b[0;34m]\u001b[0m\u001b[0;34m\u001b[0m\u001b[0;34m\u001b[0m\u001b[0m\n",
      "\u001b[0;31mIndexError\u001b[0m: boolean index did not match indexed array along dimension 2; dimension is 0 but corresponding boolean dimension is 285"
     ]
    }
   ],
   "source": [
    "PEA_co_mean={}\n",
    "SSS_co_mean={}\n",
    "SST_co_mean={}\n",
    "\n",
    "for iname,fname in enumerate(fnames):\n",
    "    name=names[iname]\n",
    "    f=xr.open_dataset(f\"{dpath}/{fname}\")\n",
    "    for icluster in range(1,23):\n",
    "        print(clusters.values[icluster,1])\n",
    "        i_min1=int(clusters.values[icluster,2])\n",
    "        i_max1=int(clusters.values[icluster,3])\n",
    "        j_min1=int(clusters.values[icluster,4])\n",
    "        j_max1=int(clusters.values[icluster,5])\n",
    "        D=f_bathy.Bathymetry.values[j_min1:j_max1+1,i_min1:i_max1+1]\n",
    "        PEAy=f.pea_monthy_clim.values[:,j_min1:j_max1+1,i_min1:i_max1+1]\n",
    "        PEA_co=np.copy(PEAy)\n",
    "        PEA_co[np.isnan(PEA_EN4[icluster])]=np.nan\n",
    "\n",
    "        SSSy=f.sss_monthy_clim.values[:,j_min1:j_max1+1,i_min1:i_max1+1]\n",
    "        SSS_co=np.copy(SSSy)\n",
    "        SSS_co[np.isnan(SSS_EN4[icluster])]=np.nan\n",
    "\n",
    "        SSTy=f.sst_monthy_clim.values[:,j_min1:j_max1+1,i_min1:i_max1+1]\n",
    "        SST_co=np.copy(SSTy)\n",
    "        SST_co[np.isnan(SST_EN4[icluster])]=np.nan\n",
    "        \n",
    "        DD=np.repeat(D[np.newaxis,:,:],12,axis=0)\n",
    "        DD.shape\n",
    "        PEA_co[DD>200]=np.nan\n",
    "        PEA_co_mean[name,icluster]=np.zeros(12)\n",
    "        for it in range(12):\n",
    "            PEA_co_mean[name,icluster][it]=np.nanmean(PEA_co[it,:,:])\n",
    "\n",
    "        SSS_co[DD>200]=np.nan\n",
    "        SSS_co_mean[name,icluster]=np.zeros(12)\n",
    "        for it in range(12):\n",
    "            SSS_co_mean[name,icluster][it]=np.nanmean(SSS_co[it,:,:])\n",
    "        \n",
    "        SST_co[DD>200]=np.nan  \n",
    "        SST_co_mean[name,icluster]=np.zeros(12)\n",
    "        for it in range(12):\n",
    "            SST_co_mean[name,icluster][it]=np.nanmean(SST_co[it,:,:])\n"
   ]
  },
  {
   "cell_type": "code",
   "execution_count": null,
   "id": "774fc0ce-356f-4fc1-82d3-1cafe428eb66",
   "metadata": {},
   "outputs": [],
   "source": [
    "PEA_EN4_co_mean={}\n",
    "SSS_EN4_co_mean={}\n",
    "SST_EN4_co_mean={}\n",
    "\n",
    "for icluster in range(23):\n",
    "\n",
    "    i_min1=int(clusters.values[icluster,2])\n",
    "    i_max1=int(clusters.values[icluster,3])\n",
    "    j_min1=int(clusters.values[icluster,4])\n",
    "    j_max1=int(clusters.values[icluster,5])\n",
    "    D=f_bathy.Bathymetry.values[j_min1:j_max1+1,i_min1:i_max1+1]\n",
    "    \n",
    "    PEA_co=np.copy(PEA_EN4[icluster])\n",
    "    SSS_co=np.copy(SSS_EN4[icluster])\n",
    "    SST_co=np.copy(SST_EN4[icluster])\n",
    "    \n",
    "    DD=np.repeat(D[np.newaxis,:,:],12,axis=0)\n",
    "\n",
    "    PEA_co[DD>200]=np.nan\n",
    "    SSS_co[DD>200]=np.nan\n",
    "    SST_co[DD>200]=np.nan\n",
    "    \n",
    "    PEA_EN4_co_mean[icluster]=np.zeros(12)\n",
    "    SSS_EN4_co_mean[icluster]=np.zeros(12)\n",
    "    SST_EN4_co_mean[icluster]=np.zeros(12)\n",
    "    \n",
    "    for it in range(12):\n",
    "        PEA_EN4_co_mean[icluster][it]=np.nanmean(PEA_co[it,:,:])\n",
    "        SSS_EN4_co_mean[icluster][it]=np.nanmean(SSS_co[it,:,:])\n",
    "        SST_EN4_co_mean[icluster][it]=np.nanmean(SST_co[it,:,:])\n",
    "        \n",
    "    if icluster==11:\n",
    "        plt.figure(figsize=(12,10))\n",
    "        plt.pcolormesh(SSS_EN4[11][0,:,:]);plt.colorbar(orientation='horizontal')\n",
    "        #plt.hist(PEA_EN4[11][0,:,:].ravel(),100)"
   ]
  },
  {
   "cell_type": "code",
   "execution_count": null,
   "id": "4a0a627d-2be4-4ab7-b1e0-ab2195b181cd",
   "metadata": {},
   "outputs": [],
   "source": []
  },
  {
   "cell_type": "code",
   "execution_count": null,
   "id": "2b8419f9-afd8-4522-9130-774b5ca046f4",
   "metadata": {},
   "outputs": [],
   "source": [
    "t=range(12)\n",
    "fig,ax=plt.subplots(6,4,sharex=True,figsize=(12,16))\n",
    "ax=ax.ravel()\n",
    "for icluster in range(23):\n",
    "    ax[icluster].plot(t,PEA_co_mean[names[0],icluster],t,PEA_co_mean[names[1],icluster],t,PEA_EN4_co_mean[icluster],'x')\n",
    "    ax[icluster].set_title(f\"PEA {clusters.values[icluster,1]}\")\n",
    "    ax[icluster].set_xticks(range(12))    \n",
    "    ax[icluster].set_xticklabels(['J','F','M','A','M','J','J','A','S','O','N','D'])\n",
    "\n",
    "ax[0].legend(['GS1p7','GS1p0','EN4'])\n",
    "\n",
    "plt.savefig('../Figures/PEA_ann_cyc_clusters_GS1p7_GS1p0_v2.png',dpi=300,facecolor='white')\n"
   ]
  },
  {
   "cell_type": "code",
   "execution_count": null,
   "id": "ec6f2dcb-2ae0-4c1a-a472-6c2fd61992f5",
   "metadata": {},
   "outputs": [],
   "source": [
    "fig,ax=plt.subplots(6,4,sharex=True,figsize=(12,16))\n",
    "ax=ax.ravel()\n",
    "for icluster in range(23):\n",
    "    ax[icluster].plot(t,SSS_co_mean[names[0],icluster],t,SSS_co_mean[names[1],icluster],t,SSS_EN4_co_mean[icluster],'x')\n",
    "    ax[icluster].set_title(f\"SSS {clusters.values[icluster,1]}\")\n",
    "    ax[icluster].set_xticks(range(12))    \n",
    "    ax[icluster].set_xticklabels(['J','F','M','A','M','J','J','A','S','O','N','D'])\n",
    "\n",
    "ax[0].legend(['GS1p7','GS1p0','EN4'])\n",
    "plt.savefig('../Figures/SSS_ann_cyc_clusters_GS1p7_GS1p0_v2.png',dpi=300,facecolor='white')"
   ]
  },
  {
   "cell_type": "code",
   "execution_count": null,
   "id": "93b6dad8-75fe-43ca-94d6-7e846777620e",
   "metadata": {},
   "outputs": [],
   "source": [
    "fig,ax=plt.subplots(6,4,sharex=True,figsize=(12,16))\n",
    "ax=ax.ravel()\n",
    "for icluster in range(23):\n",
    "    ax[icluster].plot(t,SST_co_mean[names[0],icluster],t,SST_co_mean[names[1],icluster],t,SST_EN4_co_mean[icluster],'x')\n",
    "    ax[icluster].set_title(f\"SST {clusters.values[icluster,1]}\")\n",
    "    ax[icluster].set_xticks(range(12))    \n",
    "    ax[icluster].set_xticklabels(['J','F','M','A','M','J','J','A','S','O','N','D'])\n",
    "\n",
    "ax[0].legend(['GS1p7','GS1p0','EN4'])\n",
    "plt.savefig('../Figures/SST_ann_cyc_clusters_GS1p7_GS1p0_v2.png',dpi=300,facecolor='white')"
   ]
  },
  {
   "cell_type": "code",
   "execution_count": null,
   "id": "234bea51-d3a0-4bbd-8573-82e759612ea9",
   "metadata": {},
   "outputs": [],
   "source": []
  }
 ],
 "metadata": {
  "kernelspec": {
   "display_name": "coast_dev",
   "language": "python",
   "name": "coast_dev"
  },
  "language_info": {
   "codemirror_mode": {
    "name": "ipython",
    "version": 3
   },
   "file_extension": ".py",
   "mimetype": "text/x-python",
   "name": "python",
   "nbconvert_exporter": "python",
   "pygments_lexer": "ipython3",
   "version": "3.8.13"
  }
 },
 "nbformat": 4,
 "nbformat_minor": 5
}
